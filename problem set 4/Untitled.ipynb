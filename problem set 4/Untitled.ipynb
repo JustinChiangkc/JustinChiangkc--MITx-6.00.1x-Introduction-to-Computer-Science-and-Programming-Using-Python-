{
 "cells": [
  {
   "cell_type": "code",
   "execution_count": 1,
   "metadata": {},
   "outputs": [],
   "source": [
    "import ps4a"
   ]
  },
  {
   "cell_type": "code",
   "execution_count": null,
   "metadata": {},
   "outputs": [
    {
     "name": "stdout",
     "output_type": "stream",
     "text": [
      "Loading word list from file...\n",
      "   83667 words loaded.\n",
      "Enter n to deal a new hand, r to replay the last hand, or e to end game: n\n",
      "Current hand:  a e q y r m j \n",
      "Enter word, or a \".\" to indicate that you are finished: sdfsdf\n",
      "Invalid word, please try again.\n",
      "\n",
      "Current hand:  a e q y r m j \n",
      "Enter word, or a \".\" to indicate that you are finished: sdfsdf\n",
      "Invalid word, please try again.\n",
      "\n",
      "Current hand:  a e q y r m j \n",
      "Enter word, or a \".\" to indicate that you are finished: aeq\n",
      "Invalid word, please try again.\n",
      "\n",
      "Current hand:  a e q y r m j \n",
      "Enter word, or a \".\" to indicate that you are finished: .\n",
      "Goodbye! Total score: 0points. \n"
     ]
    }
   ],
   "source": [
    "wordList = ps4a.loadWords()\n",
    "ps4a.playGame(wordList)"
   ]
  },
  {
   "cell_type": "code",
   "execution_count": null,
   "metadata": {},
   "outputs": [],
   "source": []
  }
 ],
 "metadata": {
  "kernelspec": {
   "display_name": "Python 3",
   "language": "python",
   "name": "python3"
  },
  "language_info": {
   "codemirror_mode": {
    "name": "ipython",
    "version": 3
   },
   "file_extension": ".py",
   "mimetype": "text/x-python",
   "name": "python",
   "nbconvert_exporter": "python",
   "pygments_lexer": "ipython3",
   "version": "3.6.4"
  }
 },
 "nbformat": 4,
 "nbformat_minor": 2
}
